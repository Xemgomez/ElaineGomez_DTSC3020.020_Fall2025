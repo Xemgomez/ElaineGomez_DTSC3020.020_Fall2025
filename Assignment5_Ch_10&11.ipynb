{
  "cells": [
    {
      "cell_type": "markdown",
      "metadata": {
        "id": "view-in-github",
        "colab_type": "text"
      },
      "source": [
        "<a href=\"https://colab.research.google.com/github/Xemgomez/ElaineGomez_DTSC3020.020_Fall2025/blob/main/Assignment5_Ch_10%2611.ipynb\" target=\"_parent\"><img src=\"https://colab.research.google.com/assets/colab-badge.svg\" alt=\"Open In Colab\"/></a>"
      ]
    },
    {
      "cell_type": "markdown",
      "id": "9903d230",
      "metadata": {
        "id": "9903d230"
      },
      "source": [
        "# Assignment5: CRM Cleanup @ **DalaShop**\n",
        "*Files (Ch.10), Exceptions (Ch.10), Unit Tests (Ch.11), and Regular Expressions*  \n",
        ".....\n",
        "\n",
        "**Total: 3 points**  (Two questions, 1.5 pts each)  \n",
        "\n",
        "> This assignment is scenario-based and aligned with Python Crash Course Ch.10 (files & exceptions), Ch.11 (unit testing with `unittest`), and Regular Expressions."
      ]
    },
    {
      "cell_type": "markdown",
      "id": "d6487401",
      "metadata": {
        "id": "d6487401"
      },
      "source": [
        "## Scenario\n",
        "You are a data intern at an online retailer called **DalaShop**.  \n",
        "Sales exported a **raw contacts** file from the CRM. It contains customer names, emails, and phone numbers, but the formatting is messy and some emails are invalid.  \n",
        "Your tasks:\n",
        "\n",
        "1. **Clean** the contacts (Files + Exceptions + Regex).  \n",
        "2. **Write unit tests** to make sure your helper functions work correctly and keep working in the future."
      ]
    },
    {
      "cell_type": "code",
      "execution_count": 1,
      "id": "c395a1a8",
      "metadata": {
        "id": "c395a1a8",
        "colab": {
          "base_uri": "https://localhost:8080/"
        },
        "outputId": "806deb77-25f3-41c2-e0cc-326f3a9a070e"
      },
      "outputs": [
        {
          "output_type": "stream",
          "name": "stdout",
          "text": [
            "Wrote contacts_raw.txt with sample DalaShop data.\n"
          ]
        }
      ],
      "source": [
        "# Create the provided company dataset file\n",
        "with open(\"contacts_raw.txt\", \"w\", encoding=\"utf-8\") as f:\n",
        "    f.write('Alice Johnson <alice@example.com> , +1 (469) 555-1234\\nBob Roberts <bob[at]example.com> , 972-555-777\\nSara M. , sara@mail.co , 214 555 8888\\n\"Mehdi A.\" <mehdi.ay@example.org> , (469)555-9999\\nDelaram <delaram@example.io>, +1-972-777-2121\\nNima <NIMA@example.io> , 972.777.2121\\nduplicate <Alice@Example.com> , 469 555 1234')\n",
        "print(\"Wrote contacts_raw.txt with sample DalaShop data.\")"
      ]
    },
    {
      "cell_type": "markdown",
      "id": "1b535f73",
      "metadata": {
        "id": "1b535f73"
      },
      "source": [
        "## Q1 (1.5 pts) — CRM cleanup with Files, Exceptions, and Regex\n",
        "Implement `q1_crm_cleanup.py` to:\n",
        "\n",
        "1. **Read** `contacts_raw.txt` using `pathlib` and `with`. If the file is missing, **handle** it gracefully with `try/except FileNotFoundError` (print a friendly message; do not crash).\n",
        "2. **Validate emails** with a simple regex (`r\"[A-Za-z0-9._%+-]+@[A-Za-z0-9.-]+\\.[A-Za-z]{2,}\"`).  \n",
        "   - Trim whitespace with `strip()` before checking.  \n",
        "   - Use **full** matching (not partial).\n",
        "3. **Normalize phone numbers:** remove all non-digits (e.g., with `re.sub(r\"\\D\", \"\", raw)`).  \n",
        "   - If the result has **≥ 10 digits**, keep the **last 10 digits**.  \n",
        "   - Otherwise, return an **empty string** (`\"\"`).\n",
        "4. **Filter rows:** keep **only** rows with a valid email.\n",
        "5. **Deduplicate:** remove duplicates by **email** using **case-insensitive** comparison (e.g., `email.casefold()`). **Keep the first occurrence** and drop later duplicates.\n",
        "6. **Output CSV:** write to `contacts_clean.csv` with **columns exactly** `name,email,phone` (UTF-8).  \n",
        "7. **Preserve input order:** the order of rows in `contacts_clean.csv` must match the **first appearance** order from the input file. **Do not sort** the rows.\n",
        "\n",
        "**Grading rubric (1.5 pts):**\n",
        "- (0.4) File read/write via `pathlib` + graceful `FileNotFoundError` handling  \n",
        "- (0.5) Correct email regex validation + filtering  \n",
        "- (0.4) Phone normalization + case-insensitive de-dup (keep first)  \n",
        "- (0.2) Clean code, clear names, minimal docstrings/comments"
      ]
    },
    {
      "cell_type": "code",
      "source": [
        "import re, csv\n",
        "\n",
        "from pathlib import Path\n",
        "path = Path(\"contacts_raw.txt\")\n",
        "filename = 'contacts_raw.txt'\n",
        "\n",
        "try:\n",
        "  with open(filename) as f:\n",
        "    lines = f.readlines()\n",
        "except FileNotFoundError:\n",
        "  print(f\"Sorry, the file {filename} does not exist.\")\n",
        "else:\n",
        "\n",
        "  def validate_email(email):\n",
        "    pattern = r\"[A-Za-z0-9._%+-]+@[A-Za-z0-9.-]+\\.[A-Za-z]{2,}\"\n",
        "    return bool(re.fullmatch(pattern, email.strip()))\n",
        "\n",
        "  def normalize_phone(phone):\n",
        "    digits = re.sub(r\"\\D\", \"\", phone)\n",
        "    if len(digits) >= 10:\n",
        "      return digits[-10:]\n",
        "    else:\n",
        "      return \"\"\n"
      ],
      "metadata": {
        "id": "gO9xaHmKNlax"
      },
      "id": "gO9xaHmKNlax",
      "execution_count": 51,
      "outputs": []
    },
    {
      "cell_type": "markdown",
      "id": "258c5b04",
      "metadata": {
        "id": "258c5b04"
      },
      "source": [
        "## Q2 (1.5 pts) — Unit testing with `unittest`\n",
        "Create tests in `test_crm_cleanup.py` that cover at least:\n",
        "\n",
        "1. **Email validation**: valid/invalid variations.  \n",
        "2. **Phone normalization**: parentheses, dashes, spaces, country code; too-short cases.  \n",
        "3. **Parsing**: from a small multi-line string (not from a file), assert the exact structured rows (name/email/phone).  \n",
        "4. **De-duplication**: demonstrate that a case-variant duplicate email is dropped (first occurrence kept).\n",
        "\n",
        "\n"
      ]
    },
    {
      "cell_type": "code",
      "source": [
        "# Write your answer here"
      ],
      "metadata": {
        "id": "_M18cJw2NqZm"
      },
      "id": "_M18cJw2NqZm",
      "execution_count": null,
      "outputs": []
    },
    {
      "cell_type": "markdown",
      "id": "f38af38b",
      "metadata": {
        "id": "f38af38b"
      },
      "source": [
        "## Grading rubric (total 3 pts)\n",
        "- **Q1 (1.5 pts)**  \n",
        "  - (0.4) File I/O with `pathlib` + graceful `FileNotFoundError` handling  \n",
        "  - (0.5) Email validation (regex + strip + full match) and filtering  \n",
        "  - (0.4) Phone normalization and **case-insensitive** de-duplication (keep first)  \n",
        "  - (0.2) Code clarity (names, minimal docstrings/comments)\n",
        "- **Q2 (1.5 pts)**  \n",
        "  - (0.6) Meaningful coverage for email/phone functions (valid & invalid)  \n",
        "  - (0.6) Parsing & de-dup tests that assert exact expected rows  \n",
        "  - (0.3) Standard `unittest` structure and readable test names\n"
      ]
    }
  ],
  "metadata": {
    "colab": {
      "provenance": [],
      "include_colab_link": true
    },
    "language_info": {
      "name": "python"
    },
    "kernelspec": {
      "name": "python3",
      "display_name": "Python 3"
    }
  },
  "nbformat": 4,
  "nbformat_minor": 5
}