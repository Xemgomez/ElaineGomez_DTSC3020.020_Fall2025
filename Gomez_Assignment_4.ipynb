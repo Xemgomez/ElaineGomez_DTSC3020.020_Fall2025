{
  "cells": [
    {
      "cell_type": "markdown",
      "metadata": {
        "id": "view-in-github",
        "colab_type": "text"
      },
      "source": [
        "<a href=\"https://colab.research.google.com/github/Xemgomez/ElaineGomez_DTSC3020.020_Fall2025/blob/main/Gomez_Assignment_4.ipynb\" target=\"_parent\"><img src=\"https://colab.research.google.com/assets/colab-badge.svg\" alt=\"Open In Colab\"/></a>"
      ]
    },
    {
      "cell_type": "markdown",
      "source": [
        "#DTSC 3020 – Assignment 4\n",
        "Chapter 6 – Dictionaries\n",
        "\n",
        "Total points: 4\n",
        "\n",
        "Deadline: Friday at midnight\n",
        "\n",
        "Submission: Upload your Python file to your GitHub repository and submit only your GitHub link.\n",
        "\n",
        "\n",
        "Expectations\n",
        "Write complete answers and run all cells before submission.\n",
        "Keep the notebook clean (no unnecessary code)."
      ],
      "metadata": {
        "id": "-astqhkqk-sA"
      },
      "id": "-astqhkqk-sA"
    },
    {
      "cell_type": "markdown",
      "source": [
        "Exercise  1: Find and print the student with the lowest grade."
      ],
      "metadata": {
        "id": "Iu8c7M_Rk9AH"
      },
      "id": "Iu8c7M_Rk9AH"
    },
    {
      "cell_type": "code",
      "source": [
        "grades = {\n",
        "    'Ali': 17,\n",
        "    'Sara': 19,\n",
        "    'Reza': 18.5,\n",
        "    'Lina': 20,\n",
        "    'Omid': 16\n",
        "}\n",
        "\n",
        "# Write your code here:\n",
        "\n",
        "lowest_grade = min(grades.values())\n",
        "for student, grade in grades.items():\n",
        "  if grade == lowest_grade:\n",
        "    print(f\"{student.title()} has the lowest grade in the class.\")\n",
        "\n",
        "\n",
        "\n"
      ],
      "metadata": {
        "id": "qL5VY2kIk4Nc",
        "colab": {
          "base_uri": "https://localhost:8080/"
        },
        "outputId": "3a547d8d-9fa8-4c1f-8371-ee5d3e5fca37"
      },
      "id": "qL5VY2kIk4Nc",
      "execution_count": 91,
      "outputs": [
        {
          "output_type": "stream",
          "name": "stdout",
          "text": [
            "Omid has the lowest grade in the class.\n"
          ]
        }
      ]
    },
    {
      "cell_type": "markdown",
      "source": [
        "Exercise 2: print names of students who registered for any course containing \"Data\""
      ],
      "metadata": {
        "id": "y880yRq6k58C"
      },
      "id": "y880yRq6k58C"
    },
    {
      "cell_type": "code",
      "source": [
        "courses = {\n",
        "    'Ali': ['Python', 'Math'],\n",
        "    'Sara': ['Data Mining', 'Chemistry'],\n",
        "    'Reza': ['Machine Learning', 'Data Science'],\n",
        "    'Lina': ['English', 'History']\n",
        "}\n",
        "\n",
        "# Write your code here:\n",
        "print(\"Students registered for data courses:\")\n",
        "for student, registered_courses in courses.items():\n",
        "  for course in registered_courses:\n",
        "    if 'Data' in course:\n",
        "      print(f\"\\t{student.title()}\")\n",
        ""
      ],
      "metadata": {
        "id": "tFfys48Iodlr",
        "colab": {
          "base_uri": "https://localhost:8080/"
        },
        "outputId": "106e4577-8783-4bf2-db14-54f008a7bfbc"
      },
      "id": "tFfys48Iodlr",
      "execution_count": 92,
      "outputs": [
        {
          "output_type": "stream",
          "name": "stdout",
          "text": [
            "Students registered for data courses:\n",
            "\tSara\n",
            "\tReza\n"
          ]
        }
      ]
    },
    {
      "cell_type": "markdown",
      "source": [
        "Exercise 3: Print titles of books that are not available."
      ],
      "metadata": {
        "id": "nUG5vQjeoWWE"
      },
      "id": "nUG5vQjeoWWE"
    },
    {
      "cell_type": "code",
      "source": [
        "library = {\n",
        "    'Python101': {'pages': 180, 'available': True},\n",
        "    'AI Basics': {'pages': 130, 'available': False},\n",
        "    'Math Advanced': {'pages': 200, 'available': False},\n",
        "    'Statistics': {'pages': 175, 'available': True}\n",
        "}\n",
        "\n",
        "# Write your code here:\n",
        "print(\"Unavailable books:\")\n",
        "for book, book_info in library.items():\n",
        "  if book_info.get('available') is False:\n",
        "    print(f\"\\t{book.title()}\")"
      ],
      "metadata": {
        "id": "2kFBzKyloecs",
        "colab": {
          "base_uri": "https://localhost:8080/"
        },
        "outputId": "374672e6-923a-4502-8fc5-70eecb78f216"
      },
      "id": "2kFBzKyloecs",
      "execution_count": 67,
      "outputs": [
        {
          "output_type": "stream",
          "name": "stdout",
          "text": [
            "Unavailable books:\n",
            "\tAi Basics\n",
            "\tMath Advanced\n"
          ]
        }
      ]
    },
    {
      "cell_type": "markdown",
      "source": [
        "Exercise 4: Print names of students who are registered for more than 2 courses.\n"
      ],
      "metadata": {
        "id": "HA_jFJ3Ro2FJ"
      },
      "id": "HA_jFJ3Ro2FJ"
    },
    {
      "cell_type": "code",
      "source": [
        "\n",
        "registrations = {\n",
        "    'Ali': ['Python', 'Math'],\n",
        "    'Sara': ['Biology', 'Chemistry', 'Math'],\n",
        "    'Reza': ['English'],\n",
        "    'Lina': ['History', 'Physics', 'Geography', 'Art']\n",
        "}\n",
        "\n",
        "# Write your code here:\n",
        "print(\"Students registered for more than two courses:\")\n",
        "for student, courses in registrations.items():\n",
        "  if len(courses) > 2:\n",
        "    print(f\"\\t{student.title()}\")"
      ],
      "metadata": {
        "id": "vYXKqs-jk43C",
        "colab": {
          "base_uri": "https://localhost:8080/"
        },
        "outputId": "78b5724f-39de-4c7c-baf3-32bd92153dac"
      },
      "id": "vYXKqs-jk43C",
      "execution_count": 93,
      "outputs": [
        {
          "output_type": "stream",
          "name": "stdout",
          "text": [
            "Students registered for more than two courses:\n",
            "\tSara\n",
            "\tLina\n"
          ]
        }
      ]
    },
    {
      "cell_type": "markdown",
      "source": [
        "Exercise 5: Calculate and print the average grade of the class."
      ],
      "metadata": {
        "id": "ZR7nhc-BpHvx"
      },
      "id": "ZR7nhc-BpHvx"
    },
    {
      "cell_type": "code",
      "source": [
        "grades = {\n",
        "    'Ali': 17,\n",
        "    'Sara': 19,\n",
        "    'Reza': 18.5,\n",
        "    'Lina': 20,\n",
        "    'Omid': 16\n",
        "}\n",
        "\n",
        "# Write your code here:\n",
        "average = sum(grades.values()) / len(grades)\n",
        "print(f\"The class average is {average}.\")\n"
      ],
      "metadata": {
        "id": "6Xbt2zE8pGNJ",
        "colab": {
          "base_uri": "https://localhost:8080/"
        },
        "outputId": "f9153d29-637e-4c0e-e9b4-cc6b19c9f645"
      },
      "id": "6Xbt2zE8pGNJ",
      "execution_count": 94,
      "outputs": [
        {
          "output_type": "stream",
          "name": "stdout",
          "text": [
            "The class average is 18.1.\n"
          ]
        }
      ]
    },
    {
      "cell_type": "markdown",
      "source": [
        "Exercise 6: Count and print the number of students registered for \"Python\".\n"
      ],
      "metadata": {
        "id": "U33R5aWYpev_"
      },
      "id": "U33R5aWYpev_"
    },
    {
      "cell_type": "code",
      "source": [
        "courses = {\n",
        "    'Ali': ['Python', 'Math'],\n",
        "    'Sara': ['Biology', 'Chemistry'],\n",
        "    'Reza': ['Python', 'AI'],\n",
        "    'Lina': ['English', 'History'],\n",
        "    'Omid': ['Python']\n",
        "}\n",
        "\n",
        "# Write your code here:\n",
        "python_students = 0\n",
        "for student, registered_courses in courses.items():\n",
        "  python_students += registered_courses.count('Python')\n",
        "print(f\"There are {python_students} students registered for Python.\")"
      ],
      "metadata": {
        "id": "Wcjq96gVpliQ",
        "colab": {
          "base_uri": "https://localhost:8080/"
        },
        "outputId": "5084dc34-4705-49f3-c888-d333ea0b6b02"
      },
      "id": "Wcjq96gVpliQ",
      "execution_count": 83,
      "outputs": [
        {
          "output_type": "stream",
          "name": "stdout",
          "text": [
            "There are 3 students registered for Python.\n"
          ]
        }
      ]
    },
    {
      "cell_type": "markdown",
      "source": [
        "Exercise 7: Print titles of books with more than 200 pages."
      ],
      "metadata": {
        "id": "2tAWS80-p75f"
      },
      "id": "2tAWS80-p75f"
    },
    {
      "cell_type": "code",
      "source": [
        "book_pages = {\n",
        "    'Python101': 180,\n",
        "    'AI Basics': 230,\n",
        "    'Math Advanced': 250,\n",
        "    'Statistics': 190,\n",
        "    'Data Science': 300\n",
        "}\n",
        "\n",
        "\n",
        "# write your answer here\n",
        "for book, pages in book_pages.items():\n",
        "  if pages > 200:\n",
        "    print(f\"{book.title()}\")\n"
      ],
      "metadata": {
        "id": "OxMTnraWp8Pf",
        "colab": {
          "base_uri": "https://localhost:8080/"
        },
        "outputId": "e7221ba4-f9a2-47c9-a23a-efaad06c2372"
      },
      "id": "OxMTnraWp8Pf",
      "execution_count": 86,
      "outputs": [
        {
          "output_type": "stream",
          "name": "stdout",
          "text": [
            "Ai Basics\n",
            "Math Advanced\n",
            "Data Science\n"
          ]
        }
      ]
    },
    {
      "cell_type": "markdown",
      "source": [
        "Exercise 8: Print each student's name and number of registered courses.\n"
      ],
      "metadata": {
        "id": "DTw2a77lqOL1"
      },
      "id": "DTw2a77lqOL1"
    },
    {
      "cell_type": "code",
      "source": [
        "courses = {\n",
        "    'Ali': ['Python', 'Math'],\n",
        "    'Sara': ['Biology', 'Chemistry'],\n",
        "    'Reza': ['Python', 'AI'],\n",
        "    'Lina': ['English', 'History'],\n",
        "    'Omid': ['Python']\n",
        "}\n",
        "\n",
        "# Write your code here:\n",
        "for student, registered_courses in courses.items():\n",
        "  print(f\"{student.title()} has registered for {len(registered_courses)} course(s).\")"
      ],
      "metadata": {
        "id": "hFURuXPTqL8Y",
        "colab": {
          "base_uri": "https://localhost:8080/"
        },
        "outputId": "010bc01a-173e-4fdb-de98-efa423093a26"
      },
      "id": "hFURuXPTqL8Y",
      "execution_count": 95,
      "outputs": [
        {
          "output_type": "stream",
          "name": "stdout",
          "text": [
            "Ali has registered for 2 course(s).\n",
            "Sara has registered for 2 course(s).\n",
            "Reza has registered for 2 course(s).\n",
            "Lina has registered for 2 course(s).\n",
            "Omid has registered for 1 course(s).\n"
          ]
        }
      ]
    },
    {
      "cell_type": "markdown",
      "source": [],
      "metadata": {
        "id": "3lHxe4qMqLm1"
      },
      "id": "3lHxe4qMqLm1"
    }
  ],
  "metadata": {
    "colab": {
      "provenance": [],
      "include_colab_link": true
    },
    "language_info": {
      "name": "python"
    },
    "kernelspec": {
      "name": "python3",
      "display_name": "Python 3"
    }
  },
  "nbformat": 4,
  "nbformat_minor": 5
}