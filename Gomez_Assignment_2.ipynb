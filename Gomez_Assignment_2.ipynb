{
  "cells": [
    {
      "cell_type": "markdown",
      "metadata": {
        "id": "view-in-github",
        "colab_type": "text"
      },
      "source": [
        "<a href=\"https://colab.research.google.com/github/Xemgomez/ElaineGomez_DTSC3020.020_Fall2025/blob/main/Gomez_Assignment_2.ipynb\" target=\"_parent\"><img src=\"https://colab.research.google.com/assets/colab-badge.svg\" alt=\"Open In Colab\"/></a>"
      ]
    },
    {
      "cell_type": "code",
      "source": [
        "fruits = ['kiwi', 'mango', 'pineapple']\n",
        "print(fruits)\n",
        "\n",
        "print(fruits[0])\n",
        "print(fruits[1])\n",
        "print(fruits[2])"
      ],
      "metadata": {
        "id": "xUT6q6dqiR92",
        "outputId": "2dcda207-4c42-42fd-871c-b162aa3559dd",
        "colab": {
          "base_uri": "https://localhost:8080/"
        }
      },
      "execution_count": null,
      "outputs": [
        {
          "output_type": "stream",
          "name": "stdout",
          "text": [
            "['kiwi', 'mango', 'pineapple']\n",
            "kiwi\n",
            "mango\n",
            "pineapple\n"
          ]
        }
      ]
    },
    {
      "cell_type": "code",
      "source": [
        "names = ['andrew', 'shannon', ' emily', 'gina']\n",
        "names[0] = 'andy'\n",
        "print(names)"
      ],
      "metadata": {
        "id": "Nm-h8RezkUYL",
        "outputId": "2c8b3ea2-1fd1-4db4-cca4-34aecfd614cd",
        "colab": {
          "base_uri": "https://localhost:8080/"
        }
      },
      "execution_count": null,
      "outputs": [
        {
          "output_type": "stream",
          "name": "stdout",
          "text": [
            "['andy', 'shannon', ' emily', 'gina']\n"
          ]
        }
      ]
    },
    {
      "cell_type": "code",
      "source": [
        "vehicles = ['scooter', 'bike', 'kayak', 'bus', 'train']\n",
        "vehicles.append('jetski')\n",
        "print(vehicles)"
      ],
      "metadata": {
        "id": "RzYPHYYnk7wM",
        "outputId": "96daa332-b3a5-4e68-d966-989a244b2176",
        "colab": {
          "base_uri": "https://localhost:8080/"
        }
      },
      "execution_count": null,
      "outputs": [
        {
          "output_type": "stream",
          "name": "stdout",
          "text": [
            "['scooter', 'bike', 'kayak', 'bus', 'train', 'jetski']\n"
          ]
        }
      ]
    },
    {
      "cell_type": "code",
      "source": [
        "foods = ['macaroni', 'macaron', 'mulberries', 'mayonnaise', 'mushrooms', 'miso soup']\n",
        "foods.remove('macaron')\n",
        "print(foods)"
      ],
      "metadata": {
        "id": "0uOUG-x7lqEK",
        "outputId": "55e62ba0-bdf4-4412-e857-f90b00ab71cc",
        "colab": {
          "base_uri": "https://localhost:8080/"
        }
      },
      "execution_count": null,
      "outputs": [
        {
          "output_type": "stream",
          "name": "stdout",
          "text": [
            "['macaroni', 'mulberries', 'mayonnaise', 'mushrooms', 'miso soup']\n"
          ]
        }
      ]
    },
    {
      "cell_type": "code",
      "source": [
        "cities = ['las vegas', 'dallas', 'hilo', 'kansas city']\n",
        "cities.sort()\n",
        "cities.sort(reverse=True)\n",
        "print(cities)"
      ],
      "metadata": {
        "id": "YZYqN7qhnkrR",
        "outputId": "c093e295-2518-4b4b-e916-947ae706eebc",
        "colab": {
          "base_uri": "https://localhost:8080/"
        }
      },
      "execution_count": null,
      "outputs": [
        {
          "output_type": "stream",
          "name": "stdout",
          "text": [
            "['las vegas', 'kansas city', 'hilo', 'dallas']\n"
          ]
        }
      ]
    },
    {
      "cell_type": "code",
      "source": [
        "animals = ['sloth', 'frogfish', 'sphynx']\n",
        "for animal in animals:\n",
        "  print(animal)"
      ],
      "metadata": {
        "id": "kOa1c-Mvosyr",
        "outputId": "c48fa39d-bbad-4fb6-e6cb-613e862d43e7",
        "colab": {
          "base_uri": "https://localhost:8080/"
        }
      },
      "execution_count": null,
      "outputs": [
        {
          "output_type": "stream",
          "name": "stdout",
          "text": [
            "sloth\n",
            "frogfish\n",
            "sphynx\n"
          ]
        }
      ]
    },
    {
      "cell_type": "code",
      "source": [
        "doubles = []\n",
        "numbers = list(range(1,6))\n",
        "for value in range (1,6):\n",
        "  double = value * 2\n",
        "  doubles.append(double)\n",
        "\n",
        "print(doubles)"
      ],
      "metadata": {
        "id": "o0lD0JappYIs",
        "outputId": "74f7f440-8f85-4102-9a2f-94b8651a0b44",
        "colab": {
          "base_uri": "https://localhost:8080/"
        }
      },
      "execution_count": null,
      "outputs": [
        {
          "output_type": "stream",
          "name": "stdout",
          "text": [
            "[2, 4, 6, 8, 10]\n"
          ]
        }
      ]
    },
    {
      "cell_type": "code",
      "source": [
        "friends = ['abigail', 'dani', 'claudia', 'david', 'brad', 'lauren']\n",
        "print(friends[:3])\n",
        "print(friends[3:])"
      ],
      "metadata": {
        "id": "cb54cMadqyOd",
        "outputId": "e0f80e71-5f5e-49fe-cdab-08d05f1452dc",
        "colab": {
          "base_uri": "https://localhost:8080/"
        }
      },
      "execution_count": null,
      "outputs": [
        {
          "output_type": "stream",
          "name": "stdout",
          "text": [
            "['abigail', 'dani', 'claudia']\n",
            "['david', 'brad', 'lauren']\n"
          ]
        }
      ]
    },
    {
      "cell_type": "code",
      "source": [
        "numbers = list(range(1,11))\n",
        "print(numbers)"
      ],
      "metadata": {
        "id": "AiGlLMx2rgPy",
        "outputId": "669b82a8-84df-4f1c-e472-23230e9d6092",
        "colab": {
          "base_uri": "https://localhost:8080/"
        }
      },
      "execution_count": null,
      "outputs": [
        {
          "output_type": "stream",
          "name": "stdout",
          "text": [
            "[1, 2, 3, 4, 5, 6, 7, 8, 9, 10]\n"
          ]
        }
      ]
    },
    {
      "cell_type": "code",
      "source": [
        "squares = []\n",
        "numbers = list(range(1,6))\n",
        "for value in range(1,6):\n",
        "  square = value ** 2\n",
        "  squares.append(square)\n",
        "\n",
        "print(squares)"
      ],
      "metadata": {
        "id": "_kKqF8KnsCOd",
        "outputId": "6c638168-b641-4482-f481-6e53abe33011",
        "colab": {
          "base_uri": "https://localhost:8080/"
        }
      },
      "execution_count": null,
      "outputs": [
        {
          "output_type": "stream",
          "name": "stdout",
          "text": [
            "[1, 4, 9, 16, 25]\n"
          ]
        }
      ]
    },
    {
      "cell_type": "markdown",
      "source": [],
      "metadata": {
        "id": "ZoibgWkupOxL"
      }
    }
  ],
  "metadata": {
    "colab": {
      "provenance": [],
      "include_colab_link": true
    },
    "kernelspec": {
      "display_name": "Python 3",
      "name": "python3"
    }
  },
  "nbformat": 4,
  "nbformat_minor": 0
}