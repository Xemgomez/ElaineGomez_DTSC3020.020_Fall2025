{
  "nbformat": 4,
  "nbformat_minor": 0,
  "metadata": {
    "colab": {
      "provenance": [],
      "include_colab_link": true
    },
    "kernelspec": {
      "name": "python3",
      "display_name": "Python 3"
    },
    "language_info": {
      "name": "python"
    }
  },
  "cells": [
    {
      "cell_type": "markdown",
      "metadata": {
        "id": "view-in-github",
        "colab_type": "text"
      },
      "source": [
        "<a href=\"https://colab.research.google.com/github/Xemgomez/ElaineGomez_DTSC3020.020_Fall2025/blob/main/Student_In_Class_Assignment_Ch_8.ipynb\" target=\"_parent\"><img src=\"https://colab.research.google.com/assets/colab-badge.svg\" alt=\"Open In Colab\"/></a>"
      ]
    },
    {
      "cell_type": "markdown",
      "source": [
        "##Final Class Exercise"
      ],
      "metadata": {
        "id": "51gCuC6VJ3gu"
      }
    },
    {
      "cell_type": "markdown",
      "source": [
        "Write a Python function create_email(full_name) that builds a UNT email in the format\n",
        "firstname.lastname@my.unt.edu.\n",
        "\n",
        "Rules\n",
        "\n",
        " • Use the first and last word from full_name (case-insensitive).\n",
        "\n",
        " • Convert everything to lowercase.\n",
        "\n",
        " • If there is only one word, use it twice (e.g., \"ali\" → ali.ali@my.unt.edu).\n",
        "\n",
        " • Return the email string.\n",
        "\n",
        "\n",
        "Constraints\n",
        "\n",
        " • Use a function and return.\n",
        "\n",
        " • Do not use input() or external libraries.\n",
        "\n",
        "\n",
        " test your code with this list\n",
        " names = [\n",
        "    \"Sara Amini\",\n",
        "    \"Ali\",\n",
        "    \"Mary Jane\",\n",
        "    \"  John   Smith  \",\n",
        "    \"LINA\",\n",
        "    \"madonna\",\n",
        "    \"  sara   amini  \"\n",
        "]"
      ],
      "metadata": {
        "id": "7pxJ6i3jH7Yq"
      }
    },
    {
      "cell_type": "code",
      "source": [
        "def create_email(full_name):\n",
        "  name_parts = full_name.split()\n",
        "  first_name = name_parts[0]\n",
        "  last_name = name_parts[-1]\n",
        "  if len(name_parts) == 1:\n",
        "    last_name = first_name\n",
        "  email = f\"{first_name.lower()}.{last_name.lower()}@my.unt.edu\"\n",
        "  return email\n",
        "\n",
        "names = [\"Sara Amini\", \"Ali\", \"Mary Jane\", \"John Smith\", \"LINA\", \"madonna\", \"sara amini\"]\n",
        "for name in names:\n",
        "  print(create_email(name))"
      ],
      "metadata": {
        "colab": {
          "base_uri": "https://localhost:8080/"
        },
        "id": "Nmboh0cJfRyf",
        "outputId": "dc147ccf-f3b1-40f3-e117-f68ce5477e4a"
      },
      "execution_count": 22,
      "outputs": [
        {
          "output_type": "stream",
          "name": "stdout",
          "text": [
            "sara.amini@my.unt.edu\n",
            "ali.ali@my.unt.edu\n",
            "mary.jane@my.unt.edu\n",
            "john.smith@my.unt.edu\n",
            "lina.lina@my.unt.edu\n",
            "madonna.madonna@my.unt.edu\n",
            "sara.amini@my.unt.edu\n"
          ]
        }
      ]
    }
  ]
}